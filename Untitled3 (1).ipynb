{
 "cells": [
  {
   "cell_type": "code",
   "execution_count": 11,
   "id": "edfe24ba-a221-4c61-bd54-6cdc033649b2",
   "metadata": {},
   "outputs": [
    {
     "name": "stdout",
     "output_type": "stream",
     "text": [
      "Generation 0: Best x = 1.019150072480354, Fitness = 0.018416621928348142\n",
      "Generation 100: Best x = 1.5001144426642234, Fitness = 0.00011446885847021804\n",
      "Generation 200: Best x = 1.5001144426642234, Fitness = 0.00011446885847021804\n",
      "Generation 300: Best x = 1.5001144426642234, Fitness = 0.00011446885847021804\n",
      "Generation 400: Best x = 1.5001144426642234, Fitness = 0.00011446885847021804\n",
      "Generation 500: Best x = 1.5001144426642234, Fitness = 0.00011446885847021804\n",
      "Generation 600: Best x = 1.5001144426642234, Fitness = 0.00011446885847021804\n",
      "Generation 700: Best x = 1.5001144426642234, Fitness = 0.00011446885847021804\n",
      "Generation 800: Best x = 1.5001144426642234, Fitness = 0.00011446885847021804\n",
      "Generation 900: Best x = 1.5001144426642234, Fitness = 0.00011446885847021804\n",
      "Solution found: x = 1.5001144426642234\n"
     ]
    }
   ],
   "source": [
    "import random\n",
    "\n",
    "# Parameters\n",
    "POPULATION_SIZE = 100\n",
    "GENERATIONS = 1000\n",
    "MUTATION_RATE = 0.01\n",
    "CHROMOSOME_LENGTH = 16  # Increased length for more precision\n",
    "X_RANGE = (-10, 10)  # Define the range for x\n",
    "\n",
    "def binary_to_decimal(binary):\n",
    "    return int(binary, 2)\n",
    "\n",
    "def decode_chromosome(chromosome):\n",
    "    max_val = 2**CHROMOSOME_LENGTH - 1\n",
    "    decimal_value = binary_to_decimal(chromosome)\n",
    "    return X_RANGE[0] + (decimal_value / max_val) * (X_RANGE[1] - X_RANGE[0])\n",
    "\n",
    "def fitness(chromosome):\n",
    "    x = decode_chromosome(chromosome)\n",
    "    return abs(2 * x**2 - 5 * x + 3)\n",
    "\n",
    "def initialize_population():\n",
    "    return [''.join(random.choices('01', k=CHROMOSOME_LENGTH)) for _ in range(POPULATION_SIZE)]\n",
    "\n",
    "def selection(population):\n",
    "    selected = []\n",
    "    for _ in range(POPULATION_SIZE):\n",
    "        i, j = random.sample(range(POPULATION_SIZE), 2)\n",
    "        selected.append(min(population[i], population[j], key=fitness))\n",
    "    return selected\n",
    "\n",
    "def crossover(parent1, parent2):\n",
    "    point1, point2 = sorted(random.sample(range(CHROMOSOME_LENGTH), 2))\n",
    "    child1 = parent1[:point1] + parent2[point1:point2] + parent1[point2:]\n",
    "    child2 = parent2[:point1] + parent1[point1:point2] + parent2[point2:]\n",
    "    return child1, child2\n",
    "\n",
    "def mutate(chromosome):\n",
    "    chromosome = list(chromosome)\n",
    "    for i in range(CHROMOSOME_LENGTH):\n",
    "        if random.random() < MUTATION_RATE:\n",
    "            chromosome[i] = '1' if chromosome[i] == '0' else '0'\n",
    "    return ''.join(chromosome)\n",
    "\n",
    "def genetic_algorithm():\n",
    "    population = initialize_population()\n",
    "    for generation in range(GENERATIONS):\n",
    "        population = selection(population)\n",
    "        next_generation = []\n",
    "        for i in range(0, POPULATION_SIZE, 2):\n",
    "            parent1, parent2 = population[i], population[i + 1]\n",
    "            child1, child2 = crossover(parent1, parent2)\n",
    "            next_generation.append(mutate(child1))\n",
    "            next_generation.append(mutate(child2))\n",
    "        population = next_generation\n",
    "        if generation % 100 == 0:\n",
    "            best_chromosome = min(population, key=fitness)\n",
    "            best_x = decode_chromosome(best_chromosome)\n",
    "            print(f\"Generation {generation}: Best x = {best_x}, Fitness = {fitness(best_chromosome)}\")\n",
    "    best_chromosome = min(population, key=fitness)\n",
    "    return decode_chromosome(best_chromosome)\n",
    "\n",
    "if __name__ == \"__main__\":\n",
    "    solution = genetic_algorithm()\n",
    "    print(f\"Solution found: x = {solution}\")\n"
   ]
  },
  {
   "cell_type": "code",
   "execution_count": null,
   "id": "f62d71b7-6861-4de0-b250-35dca8f1159a",
   "metadata": {},
   "outputs": [],
   "source": []
  }
 ],
 "metadata": {
  "kernelspec": {
   "display_name": "Python 3 (ipykernel)",
   "language": "python",
   "name": "python3"
  },
  "language_info": {
   "codemirror_mode": {
    "name": "ipython",
    "version": 3
   },
   "file_extension": ".py",
   "mimetype": "text/x-python",
   "name": "python",
   "nbconvert_exporter": "python",
   "pygments_lexer": "ipython3",
   "version": "3.12.4"
  }
 },
 "nbformat": 4,
 "nbformat_minor": 5
}
